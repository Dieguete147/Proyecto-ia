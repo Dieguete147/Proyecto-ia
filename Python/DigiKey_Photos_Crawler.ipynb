{
  "nbformat": 4,
  "nbformat_minor": 0,
  "metadata": {
    "kernelspec": {
      "display_name": "Python 3",
      "language": "python",
      "name": "python3"
    },
    "language_info": {
      "codemirror_mode": {
        "name": "ipython",
        "version": 3
      },
      "file_extension": ".py",
      "mimetype": "text/x-python",
      "name": "python",
      "nbconvert_exporter": "python",
      "pygments_lexer": "ipython3",
      "version": "3.7.3"
    },
    "colab": {
      "name": "DigiKey Photos Crawler.ipynb",
      "provenance": []
    }
  },
  "cells": [
    {
      "cell_type": "code",
      "metadata": {
        "id": "YWZlB_T3GR4M"
      },
      "source": [
        "import numpy as np\n",
        "import pandas as pd\n",
        "import urllib.request"
      ],
      "execution_count": null,
      "outputs": []
    },
    {
      "cell_type": "code",
      "metadata": {
        "id": "Fr6ZQ8_oGR4T"
      },
      "source": [
        "df = pd.read_csv('through_hole_resistors.csv')"
      ],
      "execution_count": null,
      "outputs": []
    },
    {
      "cell_type": "code",
      "metadata": {
        "id": "S137p-MwGR4U"
      },
      "source": [
        "for i in range(df.shape[0]):\n",
        "    urllib.request.urlretrieve('https://'+df.iloc[i]['Image'][2:], \"Resistor/\"+ str(i) +\".jpg\")"
      ],
      "execution_count": null,
      "outputs": []
    },
    {
      "cell_type": "code",
      "metadata": {
        "id": "DddlRsV4GR4U"
      },
      "source": [
        "df = pd.read_csv('electric_double_layer_capacitors.csv')"
      ],
      "execution_count": null,
      "outputs": []
    },
    {
      "cell_type": "code",
      "metadata": {
        "id": "XXTPKSIhGR4V"
      },
      "source": [
        "for i in range(df.shape[0]):\n",
        "    try:\n",
        "        urllib.request.urlretrieve('https://'+df.iloc[i]['Image'][2:], \"Capacitor/\"+ str(i) +\".jpg\")\n",
        "    except:\n",
        "        continue"
      ],
      "execution_count": null,
      "outputs": []
    },
    {
      "cell_type": "code",
      "metadata": {
        "id": "TNbWMP2uGR4V"
      },
      "source": [
        "df = pd.read_csv('inductors.csv')"
      ],
      "execution_count": null,
      "outputs": []
    },
    {
      "cell_type": "code",
      "metadata": {
        "id": "vc-Y9dn9GR4V"
      },
      "source": [
        "for i in range(df.shape[0]):\n",
        "    try:\n",
        "        urllib.request.urlretrieve('https://'+df.iloc[i]['Image'][2:], \"Inductor/\"+ str(i) +\".jpg\")\n",
        "    except:\n",
        "        continue"
      ],
      "execution_count": null,
      "outputs": []
    },
    {
      "cell_type": "code",
      "metadata": {
        "id": "lHMwkOpZGR4W"
      },
      "source": [
        "df = pd.read_csv('transformers.csv')"
      ],
      "execution_count": null,
      "outputs": []
    },
    {
      "cell_type": "code",
      "metadata": {
        "id": "hNK2PsgYGR4W"
      },
      "source": [
        "for i in range(df.shape[0]):\n",
        "    try:\n",
        "        urllib.request.urlretrieve('https://'+df.iloc[i]['Image'][2:], \"Transformer/\"+ str(i) +\".jpg\")\n",
        "    except:\n",
        "        continue"
      ],
      "execution_count": null,
      "outputs": []
    },
    {
      "cell_type": "code",
      "metadata": {
        "id": "y0IKH1hOGR4W"
      },
      "source": [
        "df = pd.read_csv('diodes___variable_capacitance.csv')"
      ],
      "execution_count": null,
      "outputs": []
    },
    {
      "cell_type": "code",
      "metadata": {
        "id": "xtMMsaWzGR4X"
      },
      "source": [
        "for i in range(df.shape[0]):\n",
        "    try:\n",
        "        urllib.request.urlretrieve('https://'+df.iloc[i]['Image'][2:], \"Diode/\"+ str(i) +\".jpg\")\n",
        "    except:\n",
        "        continue"
      ],
      "execution_count": null,
      "outputs": []
    },
    {
      "cell_type": "code",
      "metadata": {
        "id": "ht-1bvA2GR4X"
      },
      "source": [
        "df = pd.read_csv('logic___signal_switches__multiplexers__decoders.csv')"
      ],
      "execution_count": null,
      "outputs": []
    },
    {
      "cell_type": "code",
      "metadata": {
        "id": "HH1vs06AGR4X"
      },
      "source": [
        "for i in range(df.shape[0]):\n",
        "    try:\n",
        "        urllib.request.urlretrieve('https://'+df.iloc[i]['Image'][2:], \"IC/\"+ str(i) +\".jpg\")\n",
        "    except:\n",
        "        continue"
      ],
      "execution_count": null,
      "outputs": []
    },
    {
      "cell_type": "code",
      "metadata": {
        "id": "ea5E-XhQGR4X"
      },
      "source": [
        ""
      ],
      "execution_count": null,
      "outputs": []
    }
  ]
}